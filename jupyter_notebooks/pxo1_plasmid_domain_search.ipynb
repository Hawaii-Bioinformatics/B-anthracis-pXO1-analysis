{
 "cells": [
  {
   "cell_type": "markdown",
   "metadata": {},
   "source": [
    "## B-anthracis-pXO1-analysis\n",
    "#### Identifying DNA processing and replication related domains in proteins encoded in B.anthracis pXO1 Plasmids (Section 2.9, 3.7) "
   ]
  },
  {
   "cell_type": "code",
   "execution_count": 1,
   "metadata": {},
   "outputs": [],
   "source": [
    "import json\n",
    "import glob\n",
    "from collections import defaultdict\n",
    "\n",
    "## General\n",
    "from __future__ import annotations\n",
    "from pathlib import Path\n",
    "from collections import defaultdict\n",
    "from typing import DefaultDict, Dict, List\n",
    "import json"
   ]
  },
  {
   "cell_type": "markdown",
   "metadata": {},
   "source": [
    "### Step 1: Load reference domain and superfamilies from sequences in reference STRING DB network\n",
    "##### Reference domains from reference B.cereus and B.anthracis NERD-domain interaction networks"
   ]
  },
  {
   "cell_type": "code",
   "execution_count": 4,
   "metadata": {},
   "outputs": [
    {
     "name": "stdout",
     "output_type": "stream",
     "text": [
      "42 unique domain annotations\n",
      "10 reference sequences mapped\n",
      "57 reference domains\n"
     ]
    }
   ],
   "source": [
    "# === Load domain hits per reference sequence from JSON files ===\n",
    "domain_annotations: Dict[str, str] = {}\n",
    "domains_to_seqs: DefaultDict[str, List[str]] = defaultdict(list)\n",
    "ref_domains: List[str] = []\n",
    "\n",
    "domain_dir = Path(\"../files/domain_search_files/b_anthracis_reference_seq_domain_json\")\n",
    "\n",
    "for file_path in domain_dir.glob(\"*.json\"):\n",
    "    ref_seq: str = file_path.name.split(\"_\")[0]\n",
    "    print(ref_seq)\n",
    "\n",
    "    with file_path.open(\"r\") as f:\n",
    "        records = json.load(f)\n",
    "\n",
    "    # Each record expected to have \"metadata\" with \"accession\" and \"name\"\n",
    "    for rec in records:\n",
    "        md = rec.get(\"metadata\", {})\n",
    "        accession = md.get(\"accession\")\n",
    "        name = md.get(\"name\")\n",
    "\n",
    "        if not accession:\n",
    "            continue\n",
    "\n",
    "        domains_to_seqs[ref_seq].append(accession)\n",
    "\n",
    "        if name:\n",
    "            domain_annotations[accession] = name\n",
    "\n",
    "# === Parse reference network metadata and extend domain mappings ===\n",
    "\n",
    "ref_meta_path = Path(\n",
    "    \"../files/domain_search_files/StringDB_NERD_reference_network_metadata.json\"\n",
    ")\n",
    "\n",
    "with ref_meta_path.open(\"r\") as f:\n",
    "    ref_meta = json.load(f)\n",
    "\n",
    "for res in ref_meta.get(\"results\", []):\n",
    "    # Expect something like: \"xref\": [{\"id\": \"<sequence_id>\", ...}]\n",
    "    xref_list = res.get(\"xref\", [])\n",
    "    xref_id = xref_list[0].get(\"id\") if xref_list and isinstance(xref_list[0], dict) else None\n",
    "\n",
    "    for match in res.get(\"matches\", []):\n",
    "        # Keep only matches that contain an e-value and are Domains / Homologous Superfamilies\n",
    "        if \"evalue\" not in match:\n",
    "            continue\n",
    "\n",
    "        signature = match.get(\"signature\") or {}\n",
    "        if signature.get(\"type\") not in {\"DOMAIN\", \"HOMOLOGOUS_SUPERFAMILY\"}:\n",
    "            continue\n",
    "\n",
    "        entry = signature.get(\"entry\")\n",
    "        if not entry:\n",
    "            continue\n",
    "\n",
    "        accession = entry.get(\"accession\")\n",
    "        name = entry.get(\"name\")\n",
    "        if not accession:\n",
    "            continue\n",
    "\n",
    "        ref_domains.append(accession)\n",
    "\n",
    "        if name:\n",
    "            domain_annotations[accession] = name\n",
    "\n",
    "        if xref_id:\n",
    "            domains_to_seqs[xref_id].append(accession)\n",
    "\n",
    "# === Breakdown of Reference Domains ===\n",
    "print(len(domain_annotations), \"unique domain annotations\")\n",
    "print(len(domains_to_seqs), \"reference sequences mapped\")\n",
    "print(len(ref_domains), \"reference domains\")\n"
   ]
  },
  {
   "cell_type": "markdown",
   "metadata": {},
   "source": [
    "### Step 2: Map InterProScan Results from pXO1 proteins sequences to domains in reference NERD network\n",
    "#### InterProScan searches were run directly on: https://www.ebi.ac.uk/interpro/search/sequence/\n",
    "#### Sequences used in InterProScan search are located at: ./files/domain_search_files/pXO1_protein_InterProScan_searches"
   ]
  },
  {
   "cell_type": "code",
   "execution_count": 3,
   "metadata": {},
   "outputs": [],
   "source": [
    "# === Map Pfam domains in plasmid sequences to reference sequences and functional annotations ===\n",
    "\n",
    "# Set up data structures for results\n",
    "pfam_domain_accessions: List[str] = []\n",
    "reference_sequences_hit: List[str] = []\n",
    "sequences_with_hits: List[str] = []\n",
    "matched_accessions: List[str] = []\n",
    "domains_by_function: DefaultDict[str, Set[Tuple[str, str, str]]] = defaultdict(set)\n",
    "\n",
    "# === Search InterProScan Results of pXO1 plasmid sequences to find matches in reference network domains ===\n",
    "for file_index in range(1, 4):\n",
    "    file_path = f\"../files/domain_search_files/pXO1_plasmid_domain_searches/domain_search_{file_index}.json\"\n",
    "\n",
    "    with open(file_path, \"r\") as f:\n",
    "        search_data = json.load(f)\n",
    "\n",
    "    for result in search_data.get(\"results\", []):\n",
    "        for match in result.get(\"matches\", []):\n",
    "            if \"evalue\" in match and match[\"signature\"].get(\"entry\"):\n",
    "                accession = match[\"signature\"][\"entry\"].get(\"accession\")\n",
    "                if not accession:\n",
    "                    continue\n",
    "\n",
    "                pfam_domain_accessions.append(accession)\n",
    "\n",
    "                if accession in ref_domains:\n",
    "                    ref_seq_id = next(\n",
    "                        k for k, v in domains_to_seqs.items() if accession in v\n",
    "                    )\n",
    "\n",
    "                    matched_accessions.append(accession)\n",
    "                    reference_sequences_hit.append(ref_seq_id)\n",
    "                    sequences_with_hits.append(result[\"xref\"][0][\"id\"])\n",
    "                    \n"
   ]
  },
  {
   "cell_type": "code",
   "execution_count": 8,
   "metadata": {},
   "outputs": [
    {
     "name": "stdout",
     "output_type": "stream",
     "text": [
      "\n",
      "--- Quick Summary ---\n",
      "Total Pfam domain accessions found: 519\n",
      "Unique Pfam domain accessions: 200\n",
      "Matched accessions: 53\n",
      "Reference sequences hit: 5\n",
      "Sequences with hits: 31\n",
      "\n",
      "Sample Pfam domain accessions: ['IPR023346', 'IPR011055', 'IPR050570', 'IPR011055', 'IPR016047']\n",
      "Sample matched accessions: ['IPR043519', 'IPR043519', 'IPR019734', 'IPR011990', 'IPR011990']\n",
      "Sample sequences with hits: ['WP_000581648.1', 'WP_000581648.1', 'WP_000637338.1', 'WP_000637338.1', 'WP_000637338.1']\n"
     ]
    }
   ],
   "source": [
    "# === Summary of results ===\n",
    "print(\"\\n--- Quick Summary ---\")\n",
    "print(f\"Total Pfam domain accessions found: {len(pfam_domain_accessions)}\")\n",
    "print(f\"Unique Pfam domain accessions: {len(set(pfam_domain_accessions))}\")\n",
    "print(f\"Matched accessions: {len(matched_accessions)}\")\n",
    "print(f\"Reference sequences hit: {len(set(reference_sequences_hit))}\")\n",
    "print(f\"Sequences with hits: {len(set(sequences_with_hits))}\")\n",
    "\n",
    "# Show first few entries\n",
    "print(\"\\nSample Pfam domain accessions:\", pfam_domain_accessions[:5])\n",
    "print(\"Sample matched accessions:\", matched_accessions[:5])\n",
    "print(\"Sample sequences with hits:\", sequences_with_hits[:5])\n",
    "\n",
    "# Sample domains by one function\n",
    "if domains_by_function:\n",
    "    first_func = next(iter(domains_by_function))\n",
    "    print(f\"\\nExample domains in function '{first_func}':\")\n",
    "    for domain_tuple in list(domains_by_function[first_func])[:5]:\n",
    "        print(domain_tuple)\n"
   ]
  }
 ],
 "metadata": {
  "kernelspec": {
   "display_name": "clean_base",
   "language": "python",
   "name": "python3"
  },
  "language_info": {
   "codemirror_mode": {
    "name": "ipython",
    "version": 3
   },
   "file_extension": ".py",
   "mimetype": "text/x-python",
   "name": "python",
   "nbconvert_exporter": "python",
   "pygments_lexer": "ipython3",
   "version": "3.13.3"
  }
 },
 "nbformat": 4,
 "nbformat_minor": 2
}
